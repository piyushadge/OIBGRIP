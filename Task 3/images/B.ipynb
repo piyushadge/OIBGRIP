{
 "cells": [
  {
   "cell_type": "markdown",
   "id": "ca362699",
   "metadata": {},
   "source": [
    "## DL Assignment No. 2\n",
    "2. Implementing Feedforward neural networks with Keras and TensorFlow\n",
    "\n",
    "a. Import the necessary packages\n",
    "\n",
    "b. Load the training and testing data (MNIST/CIFAR10)\n",
    "\n",
    "c. Define the network architecture using Keras\n",
    "\n",
    "d. Train the model using SGD\n",
    "\n",
    "e. Evaluate the network\n",
    "\n",
    "f. Plot the training loss and accuracy"
   ]
  },
  {
   "cell_type": "code",
   "execution_count": 13,
   "id": "23291d19",
   "metadata": {},
   "outputs": [],
   "source": [
    "# a. Import the necessary packages\n",
    "import tensorflow as tf\n",
    "from tensorflow import keras\n",
    "import matplotlib.pyplot as plt"
   ]
  },
  {
   "cell_type": "code",
   "execution_count": 14,
   "id": "a8147b4c",
   "metadata": {},
   "outputs": [
    {
     "name": "stdout",
     "output_type": "stream",
     "text": [
      "AxesImage(54,36;334.8x217.44)\n"
     ]
    },
    {
     "data": {
      "image/png": "[encoded data removed]",
      "text/plain": [
       "<Figure size 432x288 with 1 Axes>"
      ]
     },
     "metadata": {
      "needs_background": "light"
     },
     "output_type": "display_data"
    }
   ],
   "source": [
    "# b. Load the training and testing data\n",
    "mnist = tf.keras.datasets.mnist\n",
    "(x_train, y_train), (x_test, y_test) = mnist.load_data()\n",
    "\n",
    "# Feature Scaling\n",
    "x_train = x_train/255\n",
    "x_test = x_test/255\n",
    "\n",
    "print(plt.imshow(x_train[0]))"
   ]
  },
  {
   "cell_type": "code",
   "execution_count": 15,
   "id": "596c12ad",
   "metadata": {},
   "outputs": [],
   "source": [
    "# c. Define the network architecture using Keras\n",
    "model = tf.keras.Sequential()\n",
    "model.add(keras.layers.Flatten(input_shape=(28, 28)))\n",
    "model.add(keras.layers.Dense(128, activation='relu'))\n",
    "model.add(keras.layers.Dense(10, activation='softmax'))"
   ]
  },
  {
   "cell_type": "code",
   "execution_count": 16,
   "id": "95862179",
   "metadata": {},
   "outputs": [
    {
     "name": "stdout",
     "output_type": "stream",
     "text": [
      "Epoch 1/6\n",
      "1875/1875 - 2s - loss: 0.6283 - accuracy: 0.8426 - val_loss: 0.3463 - val_accuracy: 0.9071\n",
      "Epoch 2/6\n",
      "1875/1875 - 2s - loss: 0.3288 - accuracy: 0.9080 - val_loss: 0.2857 - val_accuracy: 0.9212\n",
      "Epoch 3/6\n",
      "1875/1875 - 2s - loss: 0.2824 - accuracy: 0.9211 - val_loss: 0.2563 - val_accuracy: 0.9284\n",
      "Epoch 4/6\n",
      "1875/1875 - 2s - loss: 0.2539 - accuracy: 0.9294 - val_loss: 0.2351 - val_accuracy: 0.9342\n",
      "Epoch 5/6\n",
      "1875/1875 - 2s - loss: 0.2323 - accuracy: 0.9351 - val_loss: 0.2161 - val_accuracy: 0.9387\n",
      "Epoch 6/6\n",
      "1875/1875 - 2s - loss: 0.2147 - accuracy: 0.9397 - val_loss: 0.2021 - val_accuracy: 0.9421\n"
     ]
    }
   ],
   "source": [
    "# d. Train the model using SGD\n",
    "model.compile(optimizer='sgd', loss='sparse_categorical_crossentropy', metrics=['accuracy'])\n",
    "history = model.fit(x_train, y_train, validation_data=(x_test, y_test), epochs=6, verbose=2)"
   ]
  },
  {
   "cell_type": "code",
   "execution_count": 17,
   "id": "84a682cd",
   "metadata": {},
   "outputs": [
    {
     "name": "stdout",
     "output_type": "stream",
     "text": [
      "Loss = 0.2021038830280304\n",
      "Accuracy = 0.9420999884605408\n"
     ]
    }
   ],
   "source": [
    "# e. Evaluate the network\n",
    "test_loss, test_acc=model.evaluate(x_test, y_test, verbose=0)\n",
    "print(\"Loss =\", test_loss)\n",
    "print(\"Accuracy =\", test_acc)"
   ]
  },
  {
   "cell_type": "code",
   "execution_count": 18,
   "id": "e476c1ac",
   "metadata": {},
   "outputs": [
    {
     "data": {
      "text/plain": [
       "<matplotlib.legend.Legend at 0x1f59a91d6a0>"
      ]
     },
     "execution_count": 18,
     "metadata": {},
     "output_type": "execute_result"
    },
    {
     "data": {
      "image/png": "[encoded data removed]",
      "text/plain": [
       "<Figure size 432x288 with 1 Axes>"
      ]
     },
     "metadata": {
      "needs_background": "light"
     },
     "output_type": "display_data"
    }
   ],
   "source": [
    "# f. Plot the training loss and accuracy\n",
    "plt.plot(history.history['accuracy'])\n",
    "plt.plot(history.history['loss'])\n",
    "plt.title('Training Loss and Accuracy')\n",
    "plt.xlabel('epochs')\n",
    "plt.legend(['Accuracy', 'Training Loss'], loc='lower left')"
   ]
  }
 ],
 "metadata": {
  "kernelspec": {
   "display_name": "Python 3",
   "language": "python",
   "name": "python3"
  },
  "language_info": {
   "codemirror_mode": {
    "name": "ipython",
    "version": 3
   },
   "file_extension": ".py",
   "mimetype": "text/x-python",
   "name": "python",
   "nbconvert_exporter": "python",
   "pygments_lexer": "ipython3",
   "version": "3.8.8"
  }
 },
 "nbformat": 4,
 "nbformat_minor": 5
}
